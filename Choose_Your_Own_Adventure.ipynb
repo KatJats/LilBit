{
  "cells": [
    {
      "cell_type": "markdown",
      "metadata": {
        "id": "view-in-github",
        "colab_type": "text"
      },
      "source": [
        "<a href=\"https://colab.research.google.com/github/KatJats/LilBit/blob/main/Choose_Your_Own_Adventure.ipynb\" target=\"_parent\"><img src=\"https://colab.research.google.com/assets/colab-badge.svg\" alt=\"Open In Colab\"/></a>"
      ]
    },
    {
      "cell_type": "code",
      "source": [
        "# This script creates a choose-your-own-adventure story based on user input.\n",
        "\n",
        "# First, prompt the user for unique story details to make the story personal.\n",
        "print(\"Welcome to the Choose-Your-Own-Adventure game!\")\n",
        "print(\"Let's personalize the story before we begin.\")\n",
        "howOld = input(\"What is Lil Bit's age in human years? \")\n",
        "favoriteToy = input(\"What is Lil Bit's favorite toy? \")\n",
        "streetName = input(\"What is the name of your street? \")\n",
        "snackName = input(\"What is Lil Bit's favorite snack? \")\n",
        "\n",
        "# --- The Adventure Begins ---\n",
        "print(\"\\n------------------------------------------------------\")\n",
        "print(\"The sun is high in the sky over Manchester, Iowa, and the air is filled with the scent of freshly cut grass. Your trusty companion, Lil Bit, a smart and playful \" + howOld + \"-year-old dog, is happily romping in the yard, chasing his favorite \" + favoriteToy + \". His tail wags a mile a minute, completely unaware of the adventure that's about to begin.\")\n",
        "\n",
        "# Decision 1: Immediate Reaction\n",
        "print(\"\\nSuddenly, you realize the impossible has happened. Lil Bit's chain is unhooked, lying on the ground. A cold pit forms in your stomach.\")\n",
        "print(\"The thought of him wandering the busy streets is terrifying.\")\n",
        "decision1_question = input(\"Do you drop everything and go out looking for him right away, calling his name down every street? Or do you take a moment to breathe, trusting that a smart dog like Lil Bit will be back soon? (look/wait): \").lower()\n",
        "\n",
        "# --- First Choice Outcome ---\n",
        "print(\"\\n------------------------------------------------------\")\n",
        "if decision1_question == \"look\":\n",
        "    print(\"You grab your keys and a jacket, your heart pounding. The search is on, filled with urgency and worry. You head out onto \" + streetName + \", calling his name, hoping for a sign.\")\n",
        "else:\n",
        "    print(\"You take a deep breath, trying to stay calm. A part of you believes he'll be back soon, but you can't help but glance out the window every few minutes, a sense of unease lingering in the air.\")\n",
        "\n",
        "# Decision 2: Emotional Reaction\n",
        "print(\"\\nHours pass, and whether you've been searching frantically or waiting patiently, the weight of the situation hits you. The reality of a missing pet is terrifying.\")\n",
        "print(\"You start to imagine the worst. He could be lost, scared, or worse.\")\n",
        "decision2_question = input(\"The worry starts to feel overwhelming. Do you let the panic set in, calling friends and family in a frantic attempt to find him? Or do you remain calm, thinking logically about where he might have gone? (panic/calm): \").lower()\n",
        "\n",
        "# --- Second Choice Outcome ---\n",
        "print(\"\\n------------------------------------------------------\")\n",
        "if decision2_question == \"panic\":\n",
        "    print(\"Your hands shake as you dial your phone, your voice breaking as you explain what's happened. The search is now fueled by frantic hope and fear.\")\n",
        "else:\n",
        "    print(\"You take control of your emotions. You sit down with a map of the neighborhood, thinking through his favorite spots and potential hiding places. The search is a quiet, determined effort.\")\n",
        "\n",
        "# --- The Final Outcome ---\n",
        "print(\"\\n------------------------------------------------------\")\n",
        "print(\"...and here is how the story ends.\")\n",
        "print(\"------------------------------------------------------\")\n",
        "\n",
        "if decision1_question == \"look\" and decision2_question == \"panic\":\n",
        "    print(\"Your immediate action and desperation paid off. After a frantic search that seemed to last forever, you spot a small, familiar figure near the local park, looking lost but unharmed. He's a little dirty, but when he sees you, his tail starts to wag. He runs to you, and the reunion is a tearful, joyful mess. You scoop him up and hold him tight, grateful to have your best friend back.\")\n",
        "    print(\"Lil Bit is safe. You head home and reward him with his favorite \" + snackName + \"!\")\n",
        "elif decision1_question == \"wait\" and decision2_question == \"calm\":\n",
        "    print(\"Your patience and confidence in Lil Bit were well-founded. Just as you were about to give up and start a full search, you hear a familiar scratching at the back door. There he is, tired but triumphant, a big doggy grin on his face. He's come back on his own!\")\n",
        "    print(\"He's a little scuffed up from his adventure, but he's safe at home. You give him a big hug and a handful of \" + snackName + \".\")\n",
        "else: # All other combinations lead to this bittersweet ending\n",
        "    print(\"Your search continues into the night. You've walked every street, called his name until your throat is sore, but there's no sign of Lil Bit. The last light of day fades, but your hope remains. You return home, exhausted but not defeated. The search will resume in the morning. He may be gone for now, but your story with Lil Bit isn't over yet.\")\n",
        "    print(\"You leave the back door open just a crack, with a bowl of his favorite \" + snackName + \" nearby, just in case he finds his way back in the night.\")\n",
        "print(\"------------------------------------------------------\\n\")"
      ],
      "outputs": [],
      "execution_count": null,
      "metadata": {
        "id": "3Z8hYBAY4Yxt"
      }
    }
  ],
  "metadata": {
    "colab": {
      "provenance": [],
      "include_colab_link": true
    },
    "kernelspec": {
      "display_name": "Python 3",
      "name": "python3"
    }
  },
  "nbformat": 4,
  "nbformat_minor": 0
}