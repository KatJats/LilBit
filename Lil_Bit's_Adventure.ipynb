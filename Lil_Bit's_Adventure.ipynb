{
  "cells": [
    {
      "cell_type": "markdown",
      "metadata": {
        "id": "view-in-github",
        "colab_type": "text"
      },
      "source": [
        "<a href=\"https://colab.research.google.com/github/KatJats/LilBit/blob/main/Lil_Bit's_Adventure.ipynb\" target=\"_parent\"><img src=\"https://colab.research.google.com/assets/colab-badge.svg\" alt=\"Open In Colab\"/></a>"
      ]
    },
    {
      "cell_type": "code",
      "source": [
        "print(\"The sun, a giant golden coin, hangs high over Manchester, Iowa, casting a warm glow across the fields. The air hums with the symphony of crickets and the lazy buzz of bees, a soundtrack to a perfect summer day.\")\n",
        "print(\"A blur of fluffy fur, a very smart dog named Lil Bit, is pouncing playfully in the lush green grass. He sniffs at golden dandelions, his nose twitching with a flurry of new scents and adventures waiting to be had.\")\n",
        "print(\"Suddenly, his game stops. He sits, his floppy ears perked, a deep sense of unease settling over him. The blissful silence is broken only by a soft, worried whine as he realizes he's alone. He looks back at the house, a shadow of worry in his eyes—you aren't outside with him.\")\n",
        "print()\n",
        "\n",
        "\n",
        "lil_bit_age = input(\"How old is Lil Bit? \")\n",
        "lil_bit_breed = input(\"What breed is Lil Bit? \")\n",
        "print(f\"Lil Bit, a wise and loyal {lil_bit_age}-year-old {lil_bit_breed}, sits and thinks. 'Where did they go?' he wonders. 'I must find them.'\")\n",
        "print()\n",
        "\n",
        "\n",
        "print(\"DECISION 1: Lil Bit feels a deep sense of worry and loneliness. The need to find you is overwhelming. The world outside the yard seems vast and scary without you by his side.\")\n",
        "run_away_answer = input(\"Does he run away to find you? (yes/no) \").lower()\n",
        "print()\n",
        "if run_away_answer == 'yes':\n",
        "    print(\"A flash of determination fills his eyes. With a burst of speed, he's off—a tiny streak of fur dashing toward the front gate. His paws kick up dust as he bolts, a heroic journey to find his best friend.\")\n",
        "else:\n",
        "    print(\"He sighs and lies down by the door, his tail thumping softly on the porch, a rhythm of patience. He decides to be a good boy, a small, furry sentinel waiting for you to return, hoping you'll notice him soon.\")\n",
        "print()\n",
        "\n",
        "\n",
        "print(\"DECISION 2: Later that day, in a moment of distraction, the front gate is left open. Lil Bit slips through and starts trotting down the street, unaware of the busy world beyond his yard.\")\n",
        "panic_answer = input(\"Do you panic when you see him heading toward the corner? (yes/no) \").lower()\n",
        "print()\n",
        "if panic_answer == 'yes':\n",
        "    print(\"Your heart lurches into your throat. A cold wave of fear washes over you, a pit in your stomach. Tears well up in your eyes as you let out a cry of panic, dropping everything to chase after him. The thought of losing him is unbearable.\")\n",
        "else:\n",
        "    print(\"You take a deep breath, your mind a calm space in the midst of chaos. 'It's okay,' you tell yourself, 'He's smart. He'll come back.' You stay calm, trusting in Lil Bit's intelligence and the strong bond you share. You decide to wait patiently and see if he'll return on his own.\")\n",
        "\n",
        "\n",
        "print(\"--- The Outcome ---\")\n",
        "\n",
        "\n",
        "if run_away_answer == 'yes' and panic_answer == 'yes':\n",
        "    print(\"Based on your decisions, you immediately drop everything. A wave of fear washes over you, but you take a deep breath and start running down the street, calling his name. You race against the setting sun, your heart pounding with every step. You know you have to find him before it's too late.\")\n",
        "\n",
        "\n",
        "elif (run_away_answer == 'yes' and panic_answer == 'no') or (run_away_answer == 'no' and panic_answer == 'yes'):\n",
        "    print(\"Based on your decisions, you go to look for him, but something feels off. Despite your frantic search, the neighborhood feels strangely empty, and he is nowhere to be found. The sun begins to set, casting long shadows, and your heart sinks with a quiet dread that settles in the pit of your stomach.\")\n",
        "\n",
        "\n",
        "elif run_away_answer == 'no' and panic_answer == 'no':\n",
        "    print(\"Based on your decisions, you don't even notice he is gone. You assume he's just napping quietly in the other room. The house feels strangely still, a silence that you only realize much later is a sign of his absence. A sense of unease creeps in as the day fades.\")\n",
        "\n",
        "\n",
        "print()\n",
        "print(\"--- The Adventure's End ---\")\n",
        "run_to_location = input(\"Where does he run to? \")\n",
        "come_back_answer = input(\"Does he come back on his own? (yes/no) \").lower()\n",
        "sad_answer = input(\"Are you sad? (yes/no) \").lower()\n",
        "\n",
        "\n",
        "print()\n",
        "print(\"Thanks for playing! Here's the final summary of the adventure:\")\n",
        "print(f\"Lil Bit, the brave {lil_bit_age}-year-old {lil_bit_breed}, ran to {run_to_location}, his great escape a true adventure.\")\n",
        "print(f\"When all was said and done, he did {'' if come_back_answer == 'yes' else 'not '}come back on his own, leaving you to wonder what other secrets he has hidden. The memory of the day will stay with you forever, a testament to the unpredictable nature of Lil Bit's loyal and adventurous spirit.\")\n",
        "print(f\"You were feeling {'' if sad_answer == 'yes' else 'not '}sad about the situation.\")\n",
        "print()\n",
        "\n",
        "\n",
        "play_again_answer = input(\"Would you like to play again? (yes/no) \").lower()\n",
        "if play_again_answer == 'yes':\n",
        "    print(\"Awesome! You can run the script again to explore a different story path.\")\n",
        "else:\n",
        "    print(\"Thanks for playing! Goodbye!\")"
      ],
      "outputs": [],
      "execution_count": null,
      "metadata": {
        "id": "e9OpHHJti9Pt"
      }
    }
  ],
  "metadata": {
    "colab": {
      "provenance": [],
      "toc_visible": true,
      "include_colab_link": true
    },
    "kernelspec": {
      "display_name": "Python 3",
      "name": "python3"
    }
  },
  "nbformat": 4,
  "nbformat_minor": 0
}